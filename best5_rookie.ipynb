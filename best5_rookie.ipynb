{
 "cells": [
  {
   "cell_type": "code",
   "execution_count": 1,
   "id": "82967d51",
   "metadata": {},
   "outputs": [],
   "source": [
    "from bs4 import BeautifulSoup\n",
    "import pandas as pd\n",
    "import datetime\n",
    "from selenium import webdriver\n",
    "from selenium.webdriver.chrome.service import Service\n",
    "from webdriver_manager.chrome import ChromeDriverManager\n",
    "from selenium.webdriver.support.ui import Select\n",
    "import time\n",
    "from selenium.webdriver.common.by import By\n",
    "from itertools import count\n",
    "import time\n",
    "from tqdm import tqdm_notebook\n",
    "import pdb\n",
    "import re"
   ]
  },
  {
   "cell_type": "code",
   "execution_count": 2,
   "id": "f8a2f768",
   "metadata": {},
   "outputs": [],
   "source": [
    "best5_df = pd.read_csv('best5.csv', encoding='cp949')"
   ]
  },
  {
   "cell_type": "code",
   "execution_count": 23,
   "id": "a970b7c9",
   "metadata": {},
   "outputs": [
    {
     "name": "stderr",
     "output_type": "stream",
     "text": [
      "C:\\Users\\Yun\\AppData\\Local\\Temp\\ipykernel_13796\\2974935003.py:2: DeprecationWarning: executable_path has been deprecated, please pass in a Service object\n",
      "  driver = webdriver.Chrome(r'C:/Users/Yun/Desktop/Jupyter/chromedriver.exe')\n"
     ]
    }
   ],
   "source": [
    "best5_list = best5_df['player'].to_list()\n",
    "driver = webdriver.Chrome(r'C:/Users/Yun/Desktop/Jupyter/chromedriver.exe')\n",
    "G_r=[]  \n",
    "PPG_r=[]   \n",
    "FG_r=[]   \n",
    "P3_r=[] \n",
    "FT_r=[]  \n",
    "RPG_r=[]    \n",
    "APG_r=[]   \n",
    "SPG_r=[]   \n",
    "BPG_r=[]   \n",
    "TO_r=[]   \n",
    "PF_r=[]   \n",
    "EFF_r=[]  \n",
    "\n",
    "for best5_player in best5_list:\n",
    "    G=[]    #게임수\n",
    "    PPG=[]    #경기당 평균 득점\n",
    "    FG=[]    #필드골 성공\n",
    "    P3=[]    #3점슛 성공\n",
    "    FT=[]    #자유투 성공\n",
    "    RPG=[]    #경기당 리바운드\n",
    "    APG=[]    #경기당 어시스트\n",
    "    SPG=[]    #경기당 스틸\n",
    "    BPG=[]    #경기당 블록\n",
    "    TO=[]    #턴오버\n",
    "    PF=[]    #파울\n",
    "    EFF=[]    #효율성수치\n",
    "    driver.get('https://kbl.or.kr/player-staff/player')\n",
    "    search_space = driver.find_element(By.CLASS_NAME, \"cs\")\n",
    "    search_space.clear()\n",
    "    search_space.send_keys(best5_player)\n",
    "    driver.find_element(By.XPATH, '//*[@id=\"container\"]/div/div[3]/div/button/i').click()\n",
    "    firstname = driver.find_element(By.CSS_SELECTOR, '#container > div > div.con-search > ul').text\n",
    "    time.sleep(1)\n",
    "    \n",
    "    #이정현 선수는 동명이인이 있어 아래와 같이 가져왔습니다.\n",
    "    if best5_player == '이정현':\n",
    "        player_detail = f'//*[@id=\"hangul-{firstname}\"]/ul/li[2]/div[1]'\n",
    "        driver.find_element(By.XPATH, player_detail).click()\n",
    "        time.sleep(3)\n",
    "    else:\n",
    "        player_detail = f'//*[@id=\"hangul-{firstname}\"]/ul/li/div[1]'\n",
    "        driver.find_element(By.XPATH, player_detail).click()\n",
    "        time.sleep(3)\n",
    "    \n",
    "    table = driver.find_element(By.XPATH, '//*[@id=\"container\"]/div/div[4]/div[2]/table/tbody')\n",
    "    tr = table.find_elements(By.TAG_NAME, \"tr\")\n",
    "    total_season = len(tr)\n",
    "    int(total_season)\n",
    "    time.sleep(1)\n",
    "    \n",
    "    for i in range(1,4):\n",
    "        g = driver.find_element(By.XPATH, f'//*[@id=\"container\"]/div/div[4]/div[2]/table/tbody/tr[{total_season-i}]/td[3]').text\n",
    "        ppg = driver.find_element(By.XPATH, f'//*[@id=\"container\"]/div/div[4]/div[2]/table/tbody/tr[{total_season-i}]/td[5]').text\n",
    "        fg = driver.find_element(By.XPATH, f'//*[@id=\"container\"]/div/div[4]/div[2]/table/tbody/tr[{total_season-i}]/td[6]').text\n",
    "        p3 = driver.find_element(By.XPATH, f'//*[@id=\"container\"]/div/div[4]/div[2]/table/tbody/tr[{total_season-i}]/td[7]').text\n",
    "        ft = driver.find_element(By.XPATH, f'//*[@id=\"container\"]/div/div[4]/div[2]/table/tbody/tr[{total_season-i}]/td[8]').text\n",
    "        rpg = driver.find_element(By.XPATH, f'//*[@id=\"container\"]/div/div[4]/div[2]/table/tbody/tr[{total_season-i}]/td[11]').text\n",
    "        apg = driver.find_element(By.XPATH, f'//*[@id=\"container\"]/div/div[4]/div[2]/table/tbody/tr[{total_season-i}]/td[12]').text\n",
    "        spg = driver.find_element(By.XPATH, f'//*[@id=\"container\"]/div/div[4]/div[2]/table/tbody/tr[{total_season-i}]/td[13]').text\n",
    "        bpg = driver.find_element(By.XPATH, f'//*[@id=\"container\"]/div/div[4]/div[2]/table/tbody/tr[{total_season-i}]/td[14]').text\n",
    "        to = driver.find_element(By.XPATH, f'//*[@id=\"container\"]/div/div[4]/div[2]/table/tbody/tr[{total_season-i}]/td[15]').text\n",
    "        pf = driver.find_element(By.XPATH, f'//*[@id=\"container\"]/div/div[4]/div[2]/table/tbody/tr[{total_season-i}]/td[16]').text\n",
    "        eff = float(ppg)+float(rpg)+float(apg)+float(bpg)-float(to)\n",
    "        \n",
    "        G.append(g)\n",
    "        PPG.append(ppg)\n",
    "        FG.append(fg)\n",
    "        P3.append(p3)\n",
    "        FT.append(ft)\n",
    "        RPG.append(rpg)\n",
    "        APG.append(apg)\n",
    "        SPG.append(spg)\n",
    "        BPG.append(bpg)\n",
    "        TO.append(to)\n",
    "        PF.append(pf)\n",
    "        EFF.append(eff)\n",
    "        time.sleep(2)\n",
    "\n",
    "    G_r.append(sum([float(item_G) for item_G in G])/3)\n",
    "    PPG_r.append(sum([float(item_PPG) for item_PPG in PPG])/3)\n",
    "    FG_r.append(sum([float(item_FG) for item_FG in FG])/3)\n",
    "    P3_r.append(sum([float(item_P3) for item_P3 in P3])/3)\n",
    "    FT_r.append(sum([float(item_FT) for item_FT in FT])/3)\n",
    "    RPG_r.append(sum([float(item_RPG) for item_RPG in RPG])/3)\n",
    "    APG_r.append(sum([float(item_APG) for item_APG in APG])/3)\n",
    "    SPG_r.append(sum([float(item_SPG) for item_SPG in SPG])/3)\n",
    "    BPG_r.append(sum([float(item_BPG) for item_BPG in BPG])/3)\n",
    "    TO_r.append(sum([float(item_TO) for item_TO in TO])/3)\n",
    "    PF_r.append(sum([float(item_PF) for item_PF in PF])/3)\n",
    "    EFF_r.append(sum([float(item_EFF) for item_EFF in EFF])/3)\n",
    "\n",
    "best5_rookie_df = pd.DataFrame(best5_list, columns = ['player'])\n",
    "best5_rookie_df['게임수'] = G_r\n",
    "best5_rookie_df['평균득점'] = PPG_r\n",
    "best5_rookie_df['필드골'] = FG_r\n",
    "best5_rookie_df['3점'] = P3_r\n",
    "best5_rookie_df['자유투'] = FT_r\n",
    "best5_rookie_df['리바운드'] = RPG_r\n",
    "best5_rookie_df['어시스트'] = APG_r\n",
    "best5_rookie_df['스틸'] = SPG_r\n",
    "best5_rookie_df['블록'] = BPG_r\n",
    "best5_rookie_df['턴오버'] = TO_r\n",
    "best5_rookie_df['파울'] = PF_r\n",
    "best5_rookie_df['효율성'] = EFF_r\n",
    "\n",
    "best5_rookie_df.to_csv(\"best5_rookie.csv\", index = False)"
   ]
  },
  {
   "cell_type": "code",
   "execution_count": 22,
   "id": "bde8b95f",
   "metadata": {},
   "outputs": [
    {
     "name": "stdout",
     "output_type": "stream",
     "text": [
      "[41.0, 66.0, 91.0, 140.66666666666666, 190.66666666666666, 237.0, 283.3333333333333, 326.6666666666667, 380.6666666666667, 434.6666666666667, 488.6666666666667, 525.0, 561.3333333333334, 609.3333333333334, 657.3333333333334, 702.3333333333334, 746.6666666666666, 791.0, 839.3333333333334, 891.0]\n"
     ]
    }
   ],
   "source": [
    "print(G_r)"
   ]
  },
  {
   "cell_type": "code",
   "execution_count": null,
   "id": "f6c911ee",
   "metadata": {},
   "outputs": [],
   "source": []
  }
 ],
 "metadata": {
  "kernelspec": {
   "display_name": "Python 3 (ipykernel)",
   "language": "python",
   "name": "python3"
  },
  "language_info": {
   "codemirror_mode": {
    "name": "ipython",
    "version": 3
   },
   "file_extension": ".py",
   "mimetype": "text/x-python",
   "name": "python",
   "nbconvert_exporter": "python",
   "pygments_lexer": "ipython3",
   "version": "3.9.12"
  }
 },
 "nbformat": 4,
 "nbformat_minor": 5
}
